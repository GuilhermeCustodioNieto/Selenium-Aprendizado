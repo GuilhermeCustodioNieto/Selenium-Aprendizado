{
 "cells": [
  {
   "cell_type": "code",
   "execution_count": 11,
   "id": "e7359820",
   "metadata": {},
   "outputs": [
    {
     "name": "stdout",
     "output_type": "stream",
     "text": [
      "o texto de p é 1\n",
      "1\n",
      "os valores são iguais? False\n",
      "o texto de p é 2\n",
      "2\n",
      "os valores são iguais? False\n",
      "o texto de p é 3\n",
      "3\n",
      "os valores são iguais? False\n",
      "o texto de p é 4\n",
      "4\n",
      "os valores são iguais? False\n",
      "o texto de p é 5\n",
      "5\n",
      "os valores são iguais? False\n",
      "o texto de p é 6\n",
      "6\n",
      "os valores são iguais? False\n",
      "o texto de p é 7\n",
      "7\n",
      "os valores são iguais? False\n",
      "o texto de p é 8\n",
      "8\n",
      "os valores são iguais? False\n",
      "o texto de p é 9\n",
      "9\n",
      "os valores são iguais? False\n",
      "o texto de p é 10\n",
      "10\n",
      "os valores são iguais? False\n"
     ]
    }
   ],
   "source": [
    "from selenium import webdriver\n",
    "from webdriver_manager.chrome import ChromeDriverManager\n",
    "from selenium.webdriver.chrome.service import Service\n",
    "from selenium.webdriver.common.by import By\n",
    "from time import sleep\n",
    "\n",
    "\n",
    "servico = Service(ChromeDriverManager().install())\n",
    "navegador = webdriver.Chrome(service=servico)\n",
    "\n",
    "navegador.get('https://curso-python-selenium.netlify.app/aula_03.html')\n",
    "sleep(5)\n",
    "\n",
    "\n",
    "av = navegador.find_element(By.TAG_NAME,'a')\n",
    "for c in range(1,11):\n",
    "    av.click()\n",
    "    ps = navegador.find_elements(By.TAG_NAME,'p')\n",
    "    \n",
    "\n",
    "    print(f'o texto de p é {ps[-1].text}')\n",
    "    print(c)\n",
    "    print(f'os valores são iguais? {ps[-1].text == c}')"
   ]
  },
  {
   "cell_type": "code",
   "execution_count": null,
   "id": "25ff3f12",
   "metadata": {},
   "outputs": [],
   "source": []
  }
 ],
 "metadata": {
  "kernelspec": {
   "display_name": "Python 3 (ipykernel)",
   "language": "python",
   "name": "python3"
  },
  "language_info": {
   "codemirror_mode": {
    "name": "ipython",
    "version": 3
   },
   "file_extension": ".py",
   "mimetype": "text/x-python",
   "name": "python",
   "nbconvert_exporter": "python",
   "pygments_lexer": "ipython3",
   "version": "3.9.13"
  }
 },
 "nbformat": 4,
 "nbformat_minor": 5
}
