{
 "cells": [
  {
   "cell_type": "code",
   "execution_count": null,
   "id": "1b3c9d65",
   "metadata": {},
   "outputs": [],
   "source": [
    "from selenium import webdriver\n",
    "from webdriver_manager.chrome import ChromeDriverManager\n",
    "from selenium.webdriver.chrome.service import Service\n",
    "from selenium.webdriver.common.by import By\n",
    "from time import sleep\n",
    "\n",
    "\n",
    "servico = Service(ChromeDriverManager().install())\n",
    "navegador = webdriver.Chrome(service=servico)\n",
    "\n",
    "navegador.get('https://selenium.dunossauro.live/exercicio_03.html')\n",
    "sleep(3)\n",
    "\n",
    "\"\"\"\n",
    "    como vai funcionar:\n",
    "    \n",
    "    1. o computador vai clicar em 'começar por aqui'\n",
    "    2. fazer o calculo e errar de proposito\n",
    "    3. apretar no titulo errado da pagina\n",
    "    4. apertar no ttulo certo da pagina\n",
    "    5. recarregar a pagina\n",
    "    \n",
    "    \"\"\"\n",
    "\n",
    "a_elements =  navegador.find_element(By.TAG_NAME, 'a')\n",
    "\n",
    "print(a_elements.text())\n",
    "    #if certo.text == 'Começar por aqui':\n",
    "        #comeco = a\n",
    "        \n",
    "#print(len(a_elements))\n"
   ]
  },
  {
   "cell_type": "code",
   "execution_count": null,
   "id": "11353b29",
   "metadata": {},
   "outputs": [],
   "source": []
  }
 ],
 "metadata": {
  "kernelspec": {
   "display_name": "Python 3 (ipykernel)",
   "language": "python",
   "name": "python3"
  },
  "language_info": {
   "codemirror_mode": {
    "name": "ipython",
    "version": 3
   },
   "file_extension": ".py",
   "mimetype": "text/x-python",
   "name": "python",
   "nbconvert_exporter": "python",
   "pygments_lexer": "ipython3",
   "version": "3.9.13"
  }
 },
 "nbformat": 4,
 "nbformat_minor": 5
}
