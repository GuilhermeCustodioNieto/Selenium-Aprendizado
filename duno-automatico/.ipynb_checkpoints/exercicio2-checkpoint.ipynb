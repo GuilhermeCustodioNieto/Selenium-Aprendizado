{
 "cells": [
  {
   "cell_type": "code",
   "execution_count": 23,
   "id": "eac8c36b",
   "metadata": {},
   "outputs": [],
   "source": [
    "from selenium import webdriver\n",
    "from webdriver_manager.chrome import ChromeDriverManager\n",
    "from selenium.webdriver.chrome.service import Service\n",
    "from selenium.webdriver.common.by import By\n",
    "from time import sleep\n",
    "\n",
    "\n",
    "\n",
    "servico = Service(ChromeDriverManager().install()) #configuração para instalar o webdriver do navegador selecionado pelo programador na maquina do usuario na hora de rodar o programa\n",
    "navegador = webdriver.Chrome(service=servico) #definindo o navegador e qual webdriver ele vai usar(o que nós instalamos a pouco no caso)\n",
    "\n",
    "navegador.get('https://curso-python-selenium.netlify.app/exercicio_02.html') #abre a URL desejada\n",
    "sleep(3) #faz uma pausa para o site carregar por completo\n",
    "\n",
    "\n",
    "all_p_site = navegador.find_elements(By.TAG_NAME, 'p') #todos os paragrafos \"p\" do site\n",
    "num_esperado = all_p_site[-1].text #o numero que o site espera que você consiga\n",
    "\n",
    "botao_clicar = navegador.find_element(By.TAG_NAME, 'a') #define qual botão eu quero que ele clique\n",
    "\n",
    "num_atual = pass #cria uma variavel para o numero que sempre vai ser atualizado quando o programa clicar no botão\n",
    "\n",
    "while num_atual[-1] != num_esperado[-1]: #enquanto o numero atual não for o numero esperado pelo programa...\n",
    "    botao_clicar.click() #vai clicar no botão que queremos\n",
    "    all_p_site = navegador.find_elements(By.TAG_NAME,'p') #vai pegar todos os paragrafos novamente\n",
    "    num_atual = all_p_site[-1].text #vai pegar o numero sorteado atualmente e vai ver se ele é o que esperavamos\n",
    "    sleep(1) #uma pausa para o programa respirar\n",
    "    \n",
    "navegador.quit() #assim que o bot acertar o navegador se fechara sozinho"
   ]
  },
  {
   "cell_type": "code",
   "execution_count": null,
   "id": "97d5d2b6",
   "metadata": {},
   "outputs": [],
   "source": []
  }
 ],
 "metadata": {
  "kernelspec": {
   "display_name": "Python 3 (ipykernel)",
   "language": "python",
   "name": "python3"
  },
  "language_info": {
   "codemirror_mode": {
    "name": "ipython",
    "version": 3
   },
   "file_extension": ".py",
   "mimetype": "text/x-python",
   "name": "python",
   "nbconvert_exporter": "python",
   "pygments_lexer": "ipython3",
   "version": "3.9.13"
  }
 },
 "nbformat": 4,
 "nbformat_minor": 5
}
