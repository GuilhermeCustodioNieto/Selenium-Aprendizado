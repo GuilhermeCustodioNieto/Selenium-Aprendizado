{
 "cells": [
  {
   "cell_type": "code",
   "execution_count": 25,
   "id": "1dae40b2",
   "metadata": {},
   "outputs": [
    {
     "name": "stdout",
     "output_type": "stream",
     "text": [
      "texto1\n",
      "texto2\n",
      "texto3\n"
     ]
    }
   ],
   "source": []
  },
  {
   "cell_type": "code",
   "execution_count": 29,
   "id": "f71ccbe4",
   "metadata": {},
   "outputs": [
    {
     "name": "stdout",
     "output_type": "stream",
     "text": [
      "{'h1': {'texto1': 'Essa página é top de mais', 'texto2': 'E eu vou pegar todos os dados com selenium', 'texto3': 'Pq aqui não é brincadeira'}}\n"
     ]
    }
   ],
   "source": [
    "from selenium import webdriver\n",
    "from webdriver_manager.chrome import ChromeDriverManager\n",
    "from selenium.webdriver.chrome.service import Service\n",
    "from selenium.webdriver.common.by import By\n",
    "from time import sleep\n",
    "\n",
    "servico = Service(ChromeDriverManager().install()) #configuração para instalar o webdriver do navegador selecionado pelo programador na maquina do usuario na hora de rodar o programa\n",
    "navegador = webdriver.Chrome(service=servico) #definindo o navegador e qual webdriver ele vai usar(o que nós instalamos a pouco no caso)\n",
    "\n",
    "navegador.get('https://curso-python-selenium.netlify.app/exercicio_01.html') #vai pegar o link do site que queremos automatizar e abri-lo\n",
    "sleep(5) #vai fazer uma pausa de 5 segundos no programa para o site carregar por completo\n",
    "\n",
    "paragrafos, elementos = {} #cria 2 dicionarios que usaremos mais tarde\n",
    "\n",
    "\n",
    "elementos['h1'] = paragrafos #o dicionario paragrafos vai ficar dentro do elemento, cuja chave é h1\n",
    "for c in range(0,3): #vai pegar os textos e seus atributos e colocalos no dicionario chamado paragrafos\n",
    "    p = navegador.find_elements(By.TAG_NAME,'p') #vai pegar todos os paragrafos no site\n",
    "    atributo = p[c].get_attribute('atributo') #vai pegar o atributo do paragrafo atual (são 3 paragrafos)\n",
    "    texto = p[c].text #vai pegar o texto do paragrafo atual\n",
    "    paragrafos[atributo] = texto #vai colocar o texto no dicionario chamado paragrafo, e a chave desse texto é o atributo\n",
    "\n",
    "print (elementos) #vai imprimir todos os elementos que pegamos\n",
    "sleep(3) #uma pausa de 3 seg\n",
    "navegador.quit() #fecha o navegador e fm de programa"
   ]
  },
  {
   "cell_type": "code",
   "execution_count": null,
   "id": "c9cf8407",
   "metadata": {},
   "outputs": [],
   "source": []
  }
 ],
 "metadata": {
  "kernelspec": {
   "display_name": "Python 3 (ipykernel)",
   "language": "python",
   "name": "python3"
  },
  "language_info": {
   "codemirror_mode": {
    "name": "ipython",
    "version": 3
   },
   "file_extension": ".py",
   "mimetype": "text/x-python",
   "name": "python",
   "nbconvert_exporter": "python",
   "pygments_lexer": "ipython3",
   "version": "3.9.13"
  }
 },
 "nbformat": 4,
 "nbformat_minor": 5
}
