{
 "cells": [
  {
   "cell_type": "code",
   "execution_count": null,
   "id": "5869c9f8",
   "metadata": {},
   "outputs": [],
   "source": []
  },
  {
   "cell_type": "code",
   "execution_count": 5,
   "id": "428c2982",
   "metadata": {},
   "outputs": [],
   "source": [
    "from selenium import webdriver\n",
    "from webdriver_manager.chrome import ChromeDriverManager\n",
    "from selenium.webdriver.chrome.service import Service\n",
    "\n",
    "servico = Service(ChromeDriverManager().install())\n",
    "navegador = webdriver.Chrome(service=servico)\n",
    "\n",
    "navegador.get(\"https://pages.hashtagtreinamentos.com/esperapythonimpressionador?origemurl=hashtag_yt_org_listaesperapython_8AMNaVt0z_M\")\n",
    "\n",
    "navegador.find_element('xpath', \n",
    "                       '//*[@id=\"klickart-link18jo1igt2sv000\"]').click()\n",
    "\n",
    "navegador.find_element('xpath', \n",
    "                       '//*[@id=\"section-12212182\"]/div/div[3]/form/div[1]/div/div[1]/div/input').send_keys(\"Guilherme\")\n",
    "\n",
    "navegador.find_element('xpath', \n",
    "                       '//*[@id=\"section-12212182\"]/div/div[3]/form/div[1]/div/div[2]/div/input').send_keys(\"guigames543@gmail.com\")\n",
    "\n",
    "navegador.find_element('xpath', '//*[@id=\"section-12212182\"]/div/div[3]/form/button').click()"
   ]
  },
  {
   "cell_type": "code",
   "execution_count": 4,
   "id": "cffe0730",
   "metadata": {},
   "outputs": [],
   "source": []
  },
  {
   "cell_type": "markdown",
   "id": "a45b7a39",
   "metadata": {},
   "source": [
    "https://pages.hashtagtreinamentos.com/esperapythonimpressionador?origemurl=hashtag_yt_org_listaesperapython_8AMNaVt0z_M"
   ]
  }
 ],
 "metadata": {
  "kernelspec": {
   "display_name": "Python 3 (ipykernel)",
   "language": "python",
   "name": "python3"
  },
  "language_info": {
   "codemirror_mode": {
    "name": "ipython",
    "version": 3
   },
   "file_extension": ".py",
   "mimetype": "text/x-python",
   "name": "python",
   "nbconvert_exporter": "python",
   "pygments_lexer": "ipython3",
   "version": "3.9.13"
  }
 },
 "nbformat": 4,
 "nbformat_minor": 5
}
